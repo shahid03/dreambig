{
 "cells": [
  {
   "cell_type": "markdown",
   "metadata": {},
   "source": [
    "## Python Basics Print functions and Variables"
   ]
  },
  {
   "cell_type": "code",
   "execution_count": 14,
   "metadata": {},
   "outputs": [
    {
     "name": "stdout",
     "output_type": "stream",
     "text": [
      "Hello World\n",
      "Hello World $$ Use of Separators $$  and end in Print function!!!!"
     ]
    }
   ],
   "source": [
    "#Python code for Hello World\n",
    "print(\"Hello World\")\n",
    "print ( \"Hello World\", \"Use of Separators\", \" and end in Print function\", sep=\" $$ \", end=\"!!!!\")"
   ]
  },
  {
   "cell_type": "code",
   "execution_count": 23,
   "metadata": {},
   "outputs": [
    {
     "name": "stdout",
     "output_type": "stream",
     "text": [
      "Help on built-in function print in module builtins:\n",
      "\n",
      "print(...)\n",
      "    print(value, ..., sep=' ', end='\\n', file=sys.stdout, flush=False)\n",
      "    \n",
      "    Prints the values to a stream, or to sys.stdout by default.\n",
      "    Optional keyword arguments:\n",
      "    file:  a file-like object (stream); defaults to the current sys.stdout.\n",
      "    sep:   string inserted between values, default a space.\n",
      "    end:   string appended after the last value, default a newline.\n",
      "    flush: whether to forcibly flush the stream.\n",
      "\n"
     ]
    }
   ],
   "source": [
    "#For getting help for any functions\n",
    "\n",
    "help(print)"
   ]
  },
  {
   "cell_type": "code",
   "execution_count": 1,
   "metadata": {},
   "outputs": [
    {
     "name": "stdout",
     "output_type": "stream",
     "text": [
      "0\n",
      "But I don't want ANY spam!\n",
      "Spam Spam Spam Spam \n"
     ]
    }
   ],
   "source": [
    "#Example code to demo basics of Python \n",
    "spam_amount = 0\n",
    "print(spam_amount)\n",
    "\n",
    "# Ordering Spam, egg, Spam, Spam, bacon and Spam (4 more servings of Spam)\n",
    "spam_amount = spam_amount + 4\n",
    "\n",
    "if spam_amount > 0:\n",
    "    print(\"But I don't want ANY spam!\")\n",
    "\n",
    "viking_song = \"Spam \" * spam_amount\n",
    "\n",
    "print(viking_song)"
   ]
  },
  {
   "cell_type": "code",
   "execution_count": 9,
   "metadata": {},
   "outputs": [
    {
     "name": "stdout",
     "output_type": "stream",
     "text": [
      "34\n",
      "8.75\n",
      "Hey Python!\n"
     ]
    }
   ],
   "source": [
    "#Python code to declares variables. \n",
    "\n",
    "\"\"\"Python is a dynamically typed language.In other programming languages like C, C++, and Java, \n",
    "you will need to declare the type of variables but in Python you don't need to do that. \n",
    "Just type in the variable and when values will be given to it, then it will automatically know \n",
    "whether the value given would be an int, float, or char or even a String. \"\"\"\n",
    "\n",
    "myNumber=34\n",
    "print(myNumber)\n",
    "\n",
    "myNumber2=8.75\n",
    "print(myNumber2)\n",
    "\n",
    "myNumber=\"Hey Python!\"\n",
    "print(myNumber)\n"
   ]
  },
  {
   "cell_type": "markdown",
   "metadata": {},
   "source": [
    "# User Inputs "
   ]
  },
  {
   "cell_type": "code",
   "execution_count": 29,
   "metadata": {},
   "outputs": [
    {
     "name": "stdout",
     "output_type": "stream",
     "text": [
      "Enter your name: Shahid\n",
      "Shahid\n"
     ]
    }
   ],
   "source": [
    "#Python code to illustratre user input \n",
    "name=input(\"Enter your name: \")\n",
    "\n",
    "#user supplied the name as Shahid\n",
    "print(name)"
   ]
  },
  {
   "cell_type": "code",
   "execution_count": 34,
   "metadata": {},
   "outputs": [
    {
     "name": "stdout",
     "output_type": "stream",
     "text": [
      "Enter num1: 10\n",
      "Enter num2: 30\n",
      "Product is:  300\n"
     ]
    }
   ],
   "source": [
    "# Python3 program to get input from user\n",
    "\"\"\"accepting integer from the user, the return type of input() function is string ,\n",
    "so we need to convert the input to integer \"\"\" \n",
    "\n",
    "num1 = int(input(\"Enter num1: \"))\n",
    "num2 = int(input(\"Enter num2: \"))\n",
    "\n",
    "num3 = num1 * num2\n",
    "print(\"Product is: \", num3)\n"
   ]
  },
  {
   "cell_type": "code",
   "execution_count": 2,
   "metadata": {},
   "outputs": [
    {
     "name": "stdout",
     "output_type": "stream",
     "text": [
      "Num1 is good\n"
     ]
    }
   ],
   "source": [
    "# Python program to illustrate selection/conditional statement\n",
    "\n",
    "num1 = 34\n",
    "if(num1 > 12):\n",
    "    print(\"Num1 is good\")\n",
    "elif(num1 > 35):\n",
    "    print(\"Num2 is not gooooo....\")\n",
    "else:\n",
    "    print(\"Num2 is great\")\n"
   ]
  },
  {
   "cell_type": "markdown",
   "metadata": {},
   "source": [
    "# Functions "
   ]
  },
  {
   "cell_type": "code",
   "execution_count": 37,
   "metadata": {},
   "outputs": [
    {
     "name": "stdout",
     "output_type": "stream",
     "text": [
      "Functions in python are declared using def function_name(arguments): function body\n",
      "Simply write the function name for calling it\n",
      "Functions in python are declared using def function_name(arguments): function body\n",
      "Simply write the function name for calling it\n"
     ]
    }
   ],
   "source": [
    "#Python code to demo functions\n",
    "def hello():\n",
    "    print(\"Functions in python are declared using def function_name(arguments): function body\")\n",
    "    print(\"Simply write the function name for calling it\")\n",
    "hello()\n",
    "#calling a function \n",
    "hello()"
   ]
  },
  {
   "cell_type": "code",
   "execution_count": 39,
   "metadata": {},
   "outputs": [
    {
     "name": "stdout",
     "output_type": "stream",
     "text": [
      "Started\n",
      "Enter the number: 14\n",
      "14\n"
     ]
    }
   ],
   "source": [
    "#Program to illustrate function with main\n",
    "def getInteger():\n",
    "    result=int(input(\"Enter the number: \"))\n",
    "    return result\n",
    "\n",
    "def Main():\n",
    "    print(\"Started\")\n",
    "    \n",
    "    #calling the getInteger function and storing its returned value in the output variable \n",
    "    output=getInteger()\n",
    "    print(output)\n",
    "    \n",
    "#now we are required to tell Python for the 'Main' function existence\n",
    "if __name__==\"__main__\" :\n",
    "    Main()\n",
    "    "
   ]
  },
  {
   "cell_type": "code",
   "execution_count": null,
   "metadata": {},
   "outputs": [],
   "source": [
    "#Python code to demo modules import and usage\n",
    "import math\n",
    "\n",
    "def Main():\n",
    "    num=float(input(\"Enter a number: \"))\n",
    "\n",
    "    #using fabs of math module for absolute value of a decimal \n",
    "    num=math.fabs(num)\n",
    "    print(num)\n",
    "\n",
    "if __name__ == \"__main__\":\n",
    "    Main()\n",
    "\n"
   ]
  },
  {
   "cell_type": "markdown",
   "metadata": {},
   "source": [
    "# Operators"
   ]
  },
  {
   "cell_type": "code",
   "execution_count": 52,
   "metadata": {},
   "outputs": [
    {
     "name": "stdout",
     "output_type": "stream",
     "text": [
      "13\n",
      "5\n",
      "36\n",
      "2.25\n",
      "2\n",
      "1\n",
      "6561\n"
     ]
    }
   ],
   "source": [
    "#Examples of Arithmetic Operator\n",
    "a=9\n",
    "b=4\n",
    "\n",
    "#Addition of numbers \n",
    "add = a + b\n",
    "\n",
    "#Subtraction of numbers \n",
    "sub = a - b\n",
    "\n",
    "#Multiplication of numbers \n",
    "mul = a * b\n",
    "\n",
    "#Division(float) of number \n",
    "div1 = a / b\n",
    "\n",
    "#Division(floor) of number \n",
    "div2 = a // b\n",
    "\n",
    "#Modulo of both number\n",
    "mod = a % b\n",
    "\n",
    "\n",
    "#Power \n",
    "pow = a ** b\n",
    "\n",
    "#Print results \n",
    "\n",
    "print(add)\n",
    "print(sub)\n",
    "print(mul)\n",
    "print(div1)\n",
    "print(div2)\n",
    "print(mod)\n",
    "print(pow)\n"
   ]
  },
  {
   "cell_type": "code",
   "execution_count": 53,
   "metadata": {},
   "outputs": [
    {
     "name": "stdout",
     "output_type": "stream",
     "text": [
      "False\n",
      "True\n",
      "False\n",
      "True\n",
      "False\n",
      "True\n"
     ]
    }
   ],
   "source": [
    "#Python code to illustrate relational operators.\n",
    "\"\"\"Relational operators compares the values. It either returns True or False according to the condition.\"\"\"\n",
    "\n",
    "a=13 \n",
    "b=33\n",
    "\n",
    "#a > b is False\n",
    "print(a > b)\n",
    "\n",
    "#a < b is True\n",
    "print(a < b)\n",
    "\n",
    "#a == b is False\n",
    "print(a == b)\n",
    "\n",
    "#a != b is True \n",
    "print(a != b)\n",
    "\n",
    "# a > = b is False\n",
    "print(a >= b)\n",
    "\n",
    "#a <= b is True\n",
    "print(a <= b)\n",
    "\n",
    "\n",
    "\n"
   ]
  },
  {
   "cell_type": "code",
   "execution_count": 54,
   "metadata": {},
   "outputs": [
    {
     "name": "stdout",
     "output_type": "stream",
     "text": [
      "False\n",
      "True\n",
      "False\n"
     ]
    }
   ],
   "source": [
    "#Examples of Logical Operators \n",
    "a = True\n",
    "b = False\n",
    "\n",
    "#Print a and b is False \n",
    "print(a and b)\n",
    "\n",
    "#Print a or b is True\n",
    "print(a or b)\n",
    "\n",
    "#Print not a is False\n",
    "print(not a)\n",
    "\n",
    " "
   ]
  },
  {
   "cell_type": "code",
   "execution_count": 55,
   "metadata": {},
   "outputs": [
    {
     "name": "stdout",
     "output_type": "stream",
     "text": [
      "0\n",
      "14\n",
      "-11\n",
      "14\n",
      "2\n",
      "40\n"
     ]
    }
   ],
   "source": [
    "# Examples of Bitwise operators\n",
    "a = 10\n",
    "b = 4\n",
    "\n",
    "# Print bitwise AND operation  \n",
    "print(a & b)\n",
    "\n",
    "# Print bitwise OR operation\n",
    "print(a | b)\n",
    "\n",
    "# Print bitwise NOT operation \n",
    "print(~a)\n",
    "\n",
    "# print bitwise XOR operation \n",
    "print(a ^ b)\n",
    "\n",
    "# print bitwise right shift operation \n",
    "print(a >> 2)\n",
    "\n",
    "# print bitwise left shift operation \n",
    "print(a << 2)\n"
   ]
  },
  {
   "cell_type": "code",
   "execution_count": 11,
   "metadata": {},
   "outputs": [
    {
     "name": "stdout",
     "output_type": "stream",
     "text": [
      "False\n",
      "True\n",
      "False\n",
      "\n",
      "Before None\n",
      "9 9\n",
      "9 41\n",
      "9 12\n",
      "3 3\n",
      "3 74\n",
      "3 15\n",
      "After 3\n"
     ]
    }
   ],
   "source": [
    "# Examples of Identity operators\n",
    "a1 = 3\n",
    "b1 = 3\n",
    "a2 = 'GeeksforGeeks'\n",
    "b2 = 'GeeksforGeeks'\n",
    "a3 = [1,2,3]\n",
    "b3 = [1,2,3]\n",
    "\n",
    "\n",
    "print(a1 is not b1)\n",
    "\n",
    "\n",
    "print(a2 is b2)\n",
    "\n",
    "# Output is False, since lists are mutable.\n",
    "print(a3 is b3)\n",
    "\n"
   ]
  },
  {
   "cell_type": "code",
   "execution_count": 4,
   "metadata": {},
   "outputs": [
    {
     "name": "stdout",
     "output_type": "stream",
     "text": [
      "Before None\n",
      "9 9\n",
      "9 41\n",
      "9 12\n",
      "3 3\n",
      "3 74\n",
      "3 15\n",
      "After 3\n"
     ]
    }
   ],
   "source": [
    "# finding the smallest value using None flag and is operator \n",
    "smallest = None\n",
    "print('Before', smallest)\n",
    "for value in [ 9, 41, 12, 3, 74, 15 ]:\n",
    "    if smallest is None:\n",
    "        smallest = value\n",
    "    elif value < smallest:\n",
    "        smallest = value\n",
    "    print(smallest, value)\n",
    "print('After', smallest)\n"
   ]
  },
  {
   "cell_type": "code",
   "execution_count": 2,
   "metadata": {},
   "outputs": [
    {
     "name": "stdout",
     "output_type": "stream",
     "text": [
      "True\n",
      "True\n",
      "False\n",
      "True\n",
      "False\n",
      "\n",
      "Before 0 0\n",
      "1 9 9\n",
      "2 50 41\n",
      "3 62 12\n",
      "4 65 3\n",
      "5 139 74\n",
      "6 154 15\n",
      "After 6 154 25.666666666666668\n"
     ]
    }
   ],
   "source": [
    "# Examples of Membership operator\n",
    "x = 'Geeks for Geeks'\n",
    "y = {3:'a',4:'b'}\n",
    "\n",
    "\n",
    "print('G' in x)\n",
    "\n",
    "print('geeks' not in x)\n",
    "\n",
    "print('Geeks' not in x)\n",
    "\n",
    "print(3 in y)\n",
    "\n",
    "print('b' in y)\n"
   ]
  },
  {
   "cell_type": "code",
   "execution_count": 5,
   "metadata": {},
   "outputs": [
    {
     "name": "stdout",
     "output_type": "stream",
     "text": [
      "\n",
      "Before 0 0\n",
      "1 9 9\n",
      "2 50 41\n",
      "3 62 12\n",
      "4 65 3\n",
      "5 139 74\n",
      "6 154 15\n",
      "After 6 154 25.666666666666668\n"
     ]
    }
   ],
   "source": [
    "### Finding the average in a Loop \n",
    "\n",
    "count = 0\n",
    "sum = 0\n",
    "print('\\nBefore', count, sum)\n",
    "for value in [ 9, 41, 12, 3, 74, 15 ]:\n",
    "    count = count + 1\n",
    "    sum = sum + value\n",
    "    print(count, sum, value)\n",
    "print('After', count, sum, sum / count )\n"
   ]
  },
  {
   "cell_type": "code",
   "execution_count": 76,
   "metadata": {},
   "outputs": [
    {
     "name": "stdout",
     "output_type": "stream",
     "text": [
      "10\n"
     ]
    }
   ],
   "source": [
    "#Simple Method to use ternary Operators\n",
    "a, b = 10, 20\n",
    "\n",
    "#Copy the value of a in min if a < b else copy b \n",
    "min = a if a < b else b\n",
    "print(min)\n"
   ]
  },
  {
   "cell_type": "code",
   "execution_count": 12,
   "metadata": {},
   "outputs": [
    {
     "name": "stdout",
     "output_type": "stream",
     "text": [
      "7.0685775\n"
     ]
    }
   ],
   "source": [
    "pi = 3.14159 # approximate\n",
    "diameter = 3\n",
    "\n",
    "# Create a variable called 'radius' equal to half the diameter\n",
    "radius = diameter / 2\n",
    "\n",
    "\n",
    "# Create a variable called 'area', using the formula for the area of a circle: pi times the radius squared\n",
    "area = pi * radius ** 2 \n",
    "\n",
    "# Check your answer\n",
    "print(area)\n",
    "#q1.check()"
   ]
  },
  {
   "cell_type": "code",
   "execution_count": 77,
   "metadata": {},
   "outputs": [
    {
     "name": "stdout",
     "output_type": "stream",
     "text": [
      "b is greater than a\n"
     ]
    }
   ],
   "source": [
    "#Ternary operators can be written as nested if-else\n",
    "a, b = 10, 20\n",
    "\n",
    "if a != b:\n",
    "    if a > b:\n",
    "        print(\"a is greater than b\")\n",
    "    else:\n",
    "        print(\"b is greater than a\")\n",
    "else:\n",
    "    print(\"Both a and b are equal\")\n",
    "    "
   ]
  },
  {
   "cell_type": "code",
   "execution_count": 17,
   "metadata": {},
   "outputs": [
    {
     "name": "stdout",
     "output_type": "stream",
     "text": [
      "Welcome to  Geeks for Geeks \n",
      "Python@Geeks for Geeks!\n",
      " Welcome$$to$$Geeks$$for$$Geeks!!\n",
      " Welcome    to    Geeks    for    Geeks\n"
     ]
    }
   ],
   "source": [
    "#Python code to demo end parameter and sep parameter in print()\n",
    "\"\"\"By default python's print() function ends with a newline. A programmer with C/C++ background may wonder how to print without newline.\n",
    "Python's print() function comes with a parameter called 'end'. By default, the value of this parameter is '\\n', i.e. \n",
    "the new line character. You can end a print statement with any character/string using this parameter. We have another paramter called\n",
    "'sep' used in print function for separated by the defined value\"\"\"\n",
    "\n",
    "# ends the output with a <space> \n",
    "\n",
    "print(\"Welcome to \", end=' ')\n",
    "\n",
    "print(\"Geeks for Geeks\", end=' ')\n",
    "\n",
    "print()\n",
    "\n",
    "print (\"Python\", end='@')\n",
    "print (\"Geeks for Geeks\",  end='!')\n",
    "\n",
    "\n",
    "# separated by $$\n",
    "\n",
    "print(\"\\n Welcome\",\"to\", \"Geeks\", \"for\", \"Geeks\", sep=\"$$\", end=\"!!\")\n",
    "print(\"\\n Welcome\",\"to\", \"Geeks\", \"for\", \"Geeks\", sep='    ')\n"
   ]
  },
  {
   "cell_type": "markdown",
   "metadata": {},
   "source": [
    "# Typecasting or Type conversion "
   ]
  },
  {
   "cell_type": "code",
   "execution_count": 6,
   "metadata": {},
   "outputs": [
    {
     "name": "stdout",
     "output_type": "stream",
     "text": [
      "10.0\n",
      "3\n",
      "808\n"
     ]
    }
   ],
   "source": [
    "print(float(10))\n",
    "print(int(3.33))\n",
    "# They can even be called on strings!\n",
    "print(int('807') + 1)"
   ]
  },
  {
   "cell_type": "code",
   "execution_count": 9,
   "metadata": {},
   "outputs": [
    {
     "name": "stdout",
     "output_type": "stream",
     "text": [
      "<class 'str'>\n",
      "After converting to integer base 2 : 18\n",
      "After converting to float : 10010.0\n"
     ]
    }
   ],
   "source": [
    "# Python code to demonstrate Type conversion\n",
    "# using int(), float()\n",
    "\n",
    "# initializing string\n",
    "s = \"10010\"\n",
    "\n",
    "print(type(s))\n",
    "\n",
    "# printing string converting to int base 2\n",
    "c = int(s,2)\n",
    "print (\"After converting to integer base 2 : \", end=\"\")\n",
    "print (c)\n",
    "\n",
    "# printing string converting to float\n",
    "e = float(s)\n",
    "print (\"After converting to float : \", end=\"\")\n",
    "print (e)\n"
   ]
  },
  {
   "cell_type": "code",
   "execution_count": 88,
   "metadata": {},
   "outputs": [
    {
     "name": "stdout",
     "output_type": "stream",
     "text": [
      "After converting character to integer : 52\n",
      "After converting 56 to hexadecimal string : 0x38\n",
      "After converting 56 to octal string : 0o70\n"
     ]
    }
   ],
   "source": [
    "\n",
    "# Python code to demonstrate Type conversion\n",
    "# using  ord(), hex(), oct()\n",
    "\n",
    "# initializing integer\n",
    "s = '4'\n",
    "\n",
    "# printing character converting to integer\n",
    "c = ord(s)\n",
    "print (\"After converting character to integer : \",end=\"\")\n",
    "print (c)\n",
    "\n",
    "# printing integer converting to hexadecimal string\n",
    "c = hex(56)\n",
    "print (\"After converting 56 to hexadecimal string : \",end=\"\")\n",
    "print (c)\n",
    "\n",
    "# printing integer converting to octal string\n",
    "c = oct(56)\n",
    "print (\"After converting 56 to octal string : \",end=\"\")\n",
    "print (c)"
   ]
  },
  {
   "cell_type": "code",
   "execution_count": 21,
   "metadata": {},
   "outputs": [
    {
     "name": "stdout",
     "output_type": "stream",
     "text": [
      "Before [1, 2, 3] [3, 2, 1]\n",
      "After  [3, 2, 1] [1, 2, 3]\n"
     ]
    }
   ],
   "source": [
    "# Swap two numbers \n",
    "a = [1, 2, 3]\n",
    "b = [3, 2, 1]\n",
    "\n",
    "print('Before', a, b)\n",
    "\n",
    "\n",
    "# Bruteforce method using temp variable \n",
    "\n",
    "'''tmp = a\n",
    "    a = b\n",
    "    b = tmp''' \n",
    "\n",
    "\n",
    "#If you've read lots of Python code, you might have seen the following trick to swap two variables in one line:\n",
    "\n",
    "a, b = b, a\n",
    "\n",
    "print ('After ', a, b)\n",
    "#We'll demystify this bit of Python magic later when we talk about tuples."
   ]
  },
  {
   "cell_type": "code",
   "execution_count": 91,
   "metadata": {},
   "outputs": [
    {
     "name": "stdout",
     "output_type": "stream",
     "text": [
      "After converting integer to complex number : (1+2j)\n",
      "After converting integer to string : 1\n",
      "After converting tuple to dictionary : {'a': 1, 'f': 2, 'g': 3}\n"
     ]
    }
   ],
   "source": [
    "\n",
    "# Python code to demonstrate Type conversion\n",
    "# using  dict(), complex(), str()\n",
    "\n",
    "# initializing integers\n",
    "a = 1\n",
    "b = 2\n",
    "\n",
    "# initializing tuple\n",
    "tup = (('a', 1) ,('f', 2), ('g', 3))\n",
    "\n",
    "# printing integer converting to complex number\n",
    "c = complex(1,2)\n",
    "print (\"After converting integer to complex number : \",end=\"\")\n",
    "print (c)\n",
    "\n",
    "# printing integer converting to string\n",
    "c = str(a)\n",
    "print (\"After converting integer to string : \",end=\"\")\n",
    "print (c)\n",
    "\n",
    "# printing tuple converting to expression dictionary\n",
    "c = dict(tup)\n",
    "print (\"After converting tuple to dictionary : \",end=\"\")\n",
    "print (c)\n"
   ]
  },
  {
   "cell_type": "code",
   "execution_count": 93,
   "metadata": {},
   "outputs": [
    {
     "name": "stdout",
     "output_type": "stream",
     "text": [
      "10\n",
      "15\n",
      "25.0\n",
      "100\n",
      "100\n"
     ]
    }
   ],
   "source": [
    "\n",
    "# input\n",
    "num1 = float(input())\n",
    "num2 = float(input())\n",
    "\n",
    "# printing the sum in float\n",
    "print(num1 + num2)\n",
    "\n",
    "\n",
    "# input\n",
    "string = str(input())\n",
    "\n",
    "# output\n",
    "print(string)\n"
   ]
  },
  {
   "cell_type": "markdown",
   "metadata": {},
   "source": [
    "# List Comprehension"
   ]
  },
  {
   "cell_type": "code",
   "execution_count": 95,
   "metadata": {},
   "outputs": [
    {
     "name": "stdout",
     "output_type": "stream",
     "text": [
      "[1, 9, 25, 49, 81]\n",
      "[1, 9, 25, 49, 81]\n",
      "[2, 4, 8, 16, 32, 64, 128, 256]\n",
      "[2, 3, 5, 7, 11, 13, 17, 19, 23, 29, 31, 37, 41, 43, 47]\n",
      "['a', 'b', 'c']\n",
      "\n",
      "Extracted digits\n",
      "['1', '1', '1', '2', '2']\n",
      "\n",
      "Multiplication Table\n",
      "[5, 1, 5]\n",
      "[5, 2, 10]\n",
      "[5, 3, 15]\n",
      "[5, 4, 20]\n",
      "[5, 5, 25]\n",
      "[5, 6, 30]\n",
      "[5, 7, 35]\n",
      "[5, 8, 40]\n",
      "[5, 9, 45]\n",
      "[5, 10, 50]\n"
     ]
    }
   ],
   "source": []
  },
  {
   "cell_type": "code",
   "execution_count": 104,
   "metadata": {},
   "outputs": [
    {
     "name": "stdout",
     "output_type": "stream",
     "text": [
      "10 20\n"
     ]
    }
   ],
   "source": [
    "# Reads two numbers from input and typecasts them to int using \n",
    "# map function\n",
    "x, y = map(int, input().split())\n"
   ]
  },
  {
   "cell_type": "code",
   "execution_count": 4,
   "metadata": {},
   "outputs": [
    {
     "name": "stdout",
     "output_type": "stream",
     "text": [
      "1992\n",
      "True\n"
     ]
    }
   ],
   "source": [
    "#Code to check Leap year as per Gregorian calender \n",
    "\"\"\"In the Gregorian calendar, three conditions are used to identify leap years:\n",
    "\n",
    "The year can be evenly divided by 4, is a leap year, unless:\n",
    "    The year can be evenly divided by 100, it is NOT a leap year, unless:\n",
    "        The year is also evenly divisible by 400. Then it is a leap year.\"\"\"\n",
    "\n",
    "#Given a year, determine whether it is a leap year. If it is a leap year, return the Boolean True, otherwise return False.\n",
    "\n",
    "def is_leap(year):\n",
    "    return ( year % 400 == 0) or (( year % 100 != 0) and (year % 4 == 0))\n",
    "\n",
    "year = int(input())\n",
    "print(is_leap(year))\n"
   ]
  },
  {
   "cell_type": "code",
   "execution_count": 19,
   "metadata": {},
   "outputs": [
    {
     "name": "stdout",
     "output_type": "stream",
     "text": [
      "1\n",
      "3\n",
      "5\n",
      "7\n",
      "9\n",
      "11\n",
      "13\n",
      "15\n",
      "17\n",
      "19\n"
     ]
    }
   ],
   "source": [
    "for i in range(1,20,2):\n",
    "    print(i)"
   ]
  },
  {
   "cell_type": "code",
   "execution_count": 21,
   "metadata": {},
   "outputs": [],
   "source": [
    "def compare(a,b,c):\n",
    "    if a>b and a>c:\n",
    "        greater=a\n",
    "    elif b>a and b>c:\n",
    "        greater=b\n",
    "    else:\n",
    "        greater=c\n",
    "    return greater"
   ]
  },
  {
   "cell_type": "code",
   "execution_count": 22,
   "metadata": {},
   "outputs": [
    {
     "data": {
      "text/plain": [
       "28"
      ]
     },
     "execution_count": 22,
     "metadata": {},
     "output_type": "execute_result"
    }
   ],
   "source": [
    "compare(10,14,28)"
   ]
  },
  {
   "cell_type": "code",
   "execution_count": 23,
   "metadata": {},
   "outputs": [
    {
     "data": {
      "text/plain": [
       "99"
      ]
     },
     "execution_count": 23,
     "metadata": {},
     "output_type": "execute_result"
    }
   ],
   "source": [
    "compare(88, 44,99)"
   ]
  },
  {
   "cell_type": "code",
   "execution_count": 24,
   "metadata": {},
   "outputs": [
    {
     "data": {
      "text/plain": [
       "19"
      ]
     },
     "execution_count": 24,
     "metadata": {},
     "output_type": "execute_result"
    }
   ],
   "source": [
    "compare(15,19, 16)"
   ]
  },
  {
   "cell_type": "code",
   "execution_count": 47,
   "metadata": {},
   "outputs": [
    {
     "name": "stdout",
     "output_type": "stream",
     "text": [
      "[10, 20, 30, 40, 50, 60, 70]\n",
      "[10, 20, 30, 40, 50, 60, 70, 80, 90, 100]\n",
      "[10, 20, 30, 40, 50, 60, 70, 80, 90]\n",
      "[10, 20, 30, 40, 50, 60, 70, 80, 90, [90, 100]]\n",
      "[90, 100]\n",
      "[10, 20, 30, 40, 50, 60, 70, 80, 90]\n",
      "10\n",
      "20\n",
      "30\n",
      "40\n",
      "50\n",
      "60\n",
      "70\n",
      "80\n",
      "90\n"
     ]
    }
   ],
   "source": [
    "#Lists\n",
    "marks=[10,20,30,40,50,60]\n",
    "\n",
    "#adding single element \n",
    "marks.append(70)\n",
    "print(marks)\n",
    "\n",
    "#adding multiple elements\n",
    "marks.extend([80,90,100])\n",
    "print(marks)\n",
    "\n",
    "\n",
    "#deleting by index \n",
    "del marks[-1]\n",
    "print(marks)\n",
    "\n",
    "#adding list to list\n",
    "marks.append([90,100])\n",
    "print(marks)\n",
    "\n",
    "#removing by value \n",
    "print(marks[-1])\n",
    "\n",
    "del marks[-1]\n",
    "\n",
    "print(marks)\n",
    "\n",
    "#Iterating over Lists \n",
    "for mark in marks: \n",
    "        print(mark)\n",
    "    \n"
   ]
  },
  {
   "cell_type": "code",
   "execution_count": 50,
   "metadata": {},
   "outputs": [
    {
     "name": "stdout",
     "output_type": "stream",
     "text": [
      "35\n",
      "65\n",
      "95\n",
      "125\n",
      "155\n",
      "185\n",
      "215\n",
      "245\n",
      "275\n"
     ]
    }
   ],
   "source": [
    "for mark in marks:\n",
    "    print(mark * 3 + 5)"
   ]
  },
  {
   "cell_type": "markdown",
   "metadata": {},
   "source": [
    "# Dictionary"
   ]
  },
  {
   "cell_type": "code",
   "execution_count": 65,
   "metadata": {},
   "outputs": [
    {
     "data": {
      "text/plain": [
       "{'English': 94, 'Maths': 96}"
      ]
     },
     "execution_count": 65,
     "metadata": {},
     "output_type": "execute_result"
    }
   ],
   "source": [
    "#creating a dictionary\n",
    "marks={'English':94, 'Maths':96 }\n",
    "marks"
   ]
  },
  {
   "cell_type": "code",
   "execution_count": 73,
   "metadata": {},
   "outputs": [
    {
     "data": {
      "text/plain": [
       "96"
      ]
     },
     "execution_count": 73,
     "metadata": {},
     "output_type": "execute_result"
    }
   ],
   "source": [
    "#Accessing elements \n",
    "marks['Maths']"
   ]
  },
  {
   "cell_type": "code",
   "execution_count": 74,
   "metadata": {},
   "outputs": [
    {
     "data": {
      "text/plain": [
       "{'English': 94, 'Maths': 96, 'Physics': 85, 'Chemistry': 75}"
      ]
     },
     "execution_count": 74,
     "metadata": {},
     "output_type": "execute_result"
    }
   ],
   "source": [
    "#adding multiple elements \n",
    "marks.update({'Physics':85, 'Chemistry':75})\n",
    "\n",
    "marks"
   ]
  },
  {
   "cell_type": "code",
   "execution_count": 75,
   "metadata": {},
   "outputs": [
    {
     "data": {
      "text/plain": [
       "{'English': 94, 'Maths': 96, 'Physics': 85, 'Chemistry': 75, 'Biology': 99}"
      ]
     },
     "execution_count": 75,
     "metadata": {},
     "output_type": "execute_result"
    }
   ],
   "source": [
    "#adding a single element\n",
    "marks['Biology']=99\n",
    "marks"
   ]
  },
  {
   "cell_type": "code",
   "execution_count": 79,
   "metadata": {},
   "outputs": [
    {
     "data": {
      "text/plain": [
       "{'English': 94,\n",
       " 'Maths': 96,\n",
       " 'Physics': 85,\n",
       " 'Chemistry': 75,\n",
       " 'Biology': 99,\n",
       " 'Geography': 98}"
      ]
     },
     "execution_count": 79,
     "metadata": {},
     "output_type": "execute_result"
    }
   ],
   "source": [
    "#removing elements\n",
    "marks['Hindi']=67\n",
    "marks['Geography']=98\n",
    "marks\n",
    "\n",
    "del marks['Hindi']\n",
    "\n",
    "marks"
   ]
  },
  {
   "cell_type": "code",
   "execution_count": 6,
   "metadata": {},
   "outputs": [
    {
     "name": "stdout",
     "output_type": "stream",
     "text": [
      "Before False\n",
      "False 9\n",
      "False 41\n",
      "False 12\n",
      "True 3\n",
      "True 74\n",
      "True 15\n",
      "After True\n"
     ]
    }
   ],
   "source": [
    "# Check if number is in list or not \n",
    "found = False\n",
    "print('Before', found)\n",
    "\n",
    "for value in [ 9, 41, 12, 3, 74, 15 ]:\n",
    "    if value == 3:\n",
    "        found = True\n",
    "        #break\n",
    "    print(found, value)\n",
    "print('After', found)"
   ]
  },
  {
   "cell_type": "code",
   "execution_count": 12,
   "metadata": {},
   "outputs": [
    {
     "name": "stdout",
     "output_type": "stream",
     "text": [
      "Before None\n",
      "9 9\n",
      "9 41\n",
      "9 12\n",
      "3 3\n",
      "3 74\n",
      "3 15\n",
      "After 3\n"
     ]
    }
   ],
   "source": [
    "# finding the smallest value using None flag and is operator\n",
    "smallest = None\n",
    "print('Before', smallest)\n",
    "for value in [ 9, 41, 12, 3, 74, 15 ]:\n",
    "    if smallest is None:\n",
    "        smallest = value\n",
    "    elif value < smallest:\n",
    "        smallest = value\n",
    "    print(smallest, value)\n",
    "print('After', smallest)"
   ]
  },
  {
   "cell_type": "markdown",
   "metadata": {},
   "source": [
    "# sockets "
   ]
  },
  {
   "cell_type": "code",
   "execution_count": 27,
   "metadata": {},
   "outputs": [
    {
     "name": "stdout",
     "output_type": "stream",
     "text": [
      "HTTP/1.1 200 OK\r\n",
      "Date: Sat, 15 Aug 2020 13:33:09 GMT\r\n",
      "Server: Apache/2.4.18 (Ubuntu)\r\n",
      "Last-Modified: Sat, 13 May 2017 11:22:22 GMT\r\n",
      "ETag: \"a7-54f6609245537\"\r\n",
      "Accept-Ranges: bytes\r\n",
      "Content-Length: 167\r\n",
      "Cache-Control: max-age=0, no-cache, no-store, must-revalidate\r\n",
      "Pragma: no-cache\r\n",
      "Expires: Wed, 11 Jan 1984 05:00:00 GMT\r\n",
      "Connection: close\r\n",
      "Content-Type: text/plain\r\n",
      "\r\n",
      "But soft what light through yonder window breaks\n",
      "It is the east and Juliet is the sun\n",
      "Arise fair sun and kill the envious moon\n",
      "Who is already s\n",
      "ick and pale with grief\n",
      "\n"
     ]
    }
   ],
   "source": [
    "# An HTTP Request in Python \n",
    "\n",
    "import socket \n",
    "\n",
    "mysock =  socket.socket(socket.AF_INET, socket.SOCK_STREAM)\n",
    "mysock.connect(('data.pr4e.org', 80))\n",
    "cmd = 'GET http://data.pr4e.org/romeo.txt HTTP/1.0\\r\\n\\r\\n'.encode()\n",
    "\n",
    "mysock.send(cmd)\n",
    "\n",
    "while True:\n",
    "    data = mysock.recv(512)\n",
    "    if(len(data) < 1):\n",
    "        break\n",
    "    print(data.decode())\n",
    "mysock.close()"
   ]
  },
  {
   "cell_type": "code",
   "execution_count": 1,
   "metadata": {},
   "outputs": [
    {
     "name": "stdout",
     "output_type": "stream",
     "text": [
      "Collecting selenium\n",
      "  Downloading https://files.pythonhosted.org/packages/80/d6/4294f0b4bce4de0abf13e17190289f9d0613b0a44e5dd6a7f5ca98459853/selenium-3.141.0-py2.py3-none-any.whl (904kB)\n",
      "Requirement already satisfied: urllib3 in c:\\users\\gur53489\\appdata\\local\\continuum\\anaconda3\\lib\\site-packages (from selenium) (1.24.2)\n",
      "Installing collected packages: selenium\n",
      "Successfully installed selenium-3.141.0\n",
      "Note: you may need to restart the kernel to use updated packages.\n"
     ]
    }
   ],
   "source": [
    "pip install selenium"
   ]
  },
  {
   "cell_type": "code",
   "execution_count": null,
   "metadata": {},
   "outputs": [],
   "source": []
  }
 ],
 "metadata": {
  "kernelspec": {
   "display_name": "Python 3",
   "language": "python",
   "name": "python3"
  },
  "language_info": {
   "codemirror_mode": {
    "name": "ipython",
    "version": 3
   },
   "file_extension": ".py",
   "mimetype": "text/x-python",
   "name": "python",
   "nbconvert_exporter": "python",
   "pygments_lexer": "ipython3",
   "version": "3.7.4"
  }
 },
 "nbformat": 4,
 "nbformat_minor": 2
}
